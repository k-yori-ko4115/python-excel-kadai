{
  "nbformat": 4,
  "nbformat_minor": 0,
  "metadata": {
    "colab": {
      "provenance": []
    },
    "kernelspec": {
      "name": "python3",
      "display_name": "Python 3"
    },
    "language_info": {
      "name": "python"
    }
  },
  "cells": [
    {
      "cell_type": "code",
      "execution_count": 70,
      "metadata": {
        "colab": {
          "base_uri": "https://localhost:8080/"
        },
        "id": "Jj9z1FndTn_e",
        "outputId": "24c650f5-e777-4362-cda9-6252d5ddb1c2"
      },
      "outputs": [
        {
          "output_type": "stream",
          "name": "stderr",
          "text": [
            "<ipython-input-70-92558514ac1b>:23: FutureWarning: save is not part of the public API, usage can give unexpected results and will be removed in a future version\n",
            "  writer.save()\n"
          ]
        }
      ],
      "source": [
        "# Step3. データの連結と集計\n",
        "import openpyxl\n",
        "import pandas as pd\n",
        "\n",
        "# Excelファイルをリストへ格納\n",
        "file_list = ['2022_年間売上表.xlsx', '2023_年間売上表.xlsx']\n",
        "\n",
        "# 結合後のデータを格納するための空のデータフレーム\n",
        "df = pd.DataFrame()\n",
        "\n",
        "# ファイルの処理\n",
        "for file_name in file_list:\n",
        "  temp_df = pd.read_excel(file_name, header=None, skiprows=1)\n",
        "  temp_df.columns = ['売上年', '商品', '金額（千円）']\n",
        "  df = pd.concat([df, temp_df], ignore_index=True)\n",
        "\n",
        "# 「商品」「売上年」ごとにグループ化し、合計金額に集約\n",
        "grouped = df.groupby(['商品', '売上年']).agg({'金額（千円）':'sum'}).reset_index()\n",
        "\n",
        "writer = pd.ExcelWriter('売上集計表.xlsx')\n",
        "grouped.to_excel(writer, sheet_name='売上集計', index=False)\n",
        "\n",
        "writer.save()"
      ]
    },
    {
      "cell_type": "code",
      "source": [
        "# Excelファイルの読み込み\n",
        "book = openpyxl.load_workbook('売上集計表.xlsx')\n",
        "\n",
        "# ワークシートの選択\n",
        "sheet = book.active\n",
        "\n",
        "# openpyxl.stylesモジュールのPatternFillクラスをインポート\n",
        "from openpyxl.styles import PatternFill\n",
        "\n",
        "fill = PatternFill(patternType='solid', fgColor='F2F2F2' )\n",
        "for row in sheet['A1:C1']:\n",
        "  for cell in row:\n",
        "    cell.fill = fill\n",
        "\n",
        "book.save('売上集計表.xlsx')\n",
        "book.close()"
      ],
      "metadata": {
        "id": "nm8YikwXqPgy"
      },
      "execution_count": 71,
      "outputs": []
    }
  ]
}